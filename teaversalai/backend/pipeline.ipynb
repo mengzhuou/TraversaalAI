{
 "cells": [
  {
   "cell_type": "markdown",
   "metadata": {},
   "source": [
    "### Loading Dataset"
   ]
  },
  {
   "cell_type": "code",
   "execution_count": 1,
   "metadata": {},
   "outputs": [],
   "source": [
    "import datasets\n",
    "import pandas as pd\n",
    "\n",
    "from datasets import load_dataset\n",
    "\n",
    "import os\n",
    "import ray\n",
    "\n",
    "import warnings; warnings.filterwarnings(\"ignore\")\n",
    "from dotenv import load_dotenv; load_dotenv()\n",
    "\n",
    "import matplotlib.pyplot as plt\n",
    "%load_ext autoreload\n",
    "%autoreload 2"
   ]
  },
  {
   "cell_type": "code",
   "execution_count": 2,
   "metadata": {},
   "outputs": [],
   "source": [
    "local = False\n",
    "\n",
    "if local:\n",
    "    ### NOT WORKING RN\n",
    "    dataset_name = \"traversaal-ai-hackathon/hotel_datasets\"\n",
    "    local_data_dir = \"hotel_datasets.hf/\"\n",
    "\n",
    "    # Load the dataset from the local directory\n",
    "    dataset = load_dataset(dataset_name, split=\"train\", data_dir=local_data_dir)\n",
    "\n",
    "else:\n",
    "    dataset = load_dataset(\"traversaal-ai-hackathon/hotel_datasets\")\n",
    "    dataset"
   ]
  },
  {
   "cell_type": "code",
   "execution_count": 92,
   "metadata": {},
   "outputs": [],
   "source": [
    "save_csv = False\n",
    "if save_csv:\n",
    "    df = pd.DataFrame(dataset[\"train\"])\n",
    "    df.to_csv(\"hotel_datasets.csv\")"
   ]
  },
  {
   "cell_type": "code",
   "execution_count": 3,
   "metadata": {},
   "outputs": [
    {
     "data": {
      "application/vnd.jupyter.widget-view+json": {
       "model_id": "8095ff67ceef419b9bf6274ee7c08740",
       "version_major": 2,
       "version_minor": 0
      },
      "text/plain": [
       "Saving the dataset (0/1 shards):   0%|          | 0/5997 [00:00<?, ? examples/s]"
      ]
     },
     "metadata": {},
     "output_type": "display_data"
    }
   ],
   "source": [
    "dataset.save_to_disk(\"hotel_datasets.hf\")\n",
    "\n",
    "df = pd.DataFrame(dataset)\n",
    "df.to_csv(\"hotel_datasets.csv\")"
   ]
  },
  {
   "cell_type": "markdown",
   "metadata": {},
   "source": [
    "### Clean Data to make two tables"
   ]
  },
  {
   "cell_type": "code",
   "execution_count": 4,
   "metadata": {},
   "outputs": [
    {
     "data": {
      "text/plain": [
       "Dataset({\n",
       "    features: ['hotel_name', 'hotel_description', 'rate', 'tripdate', 'hotel_url', 'hotel_image', 'price_range', 'rating_value', 'review_count', 'street_address', 'locality', 'country'],\n",
       "    num_rows: 150\n",
       "})"
      ]
     },
     "execution_count": 4,
     "metadata": {},
     "output_type": "execute_result"
    }
   ],
   "source": [
    "train_dataset = dataset['train']\n",
    "unique_hotel_indices = {}\n",
    "\n",
    "for idx, name in enumerate(train_dataset['hotel_name']):\n",
    "    if name not in unique_hotel_indices:\n",
    "        unique_hotel_indices[name] = idx\n",
    "\n",
    "#Just save one time for the same hotel\n",
    "merge_dataset = train_dataset.select(list(unique_hotel_indices.values()))\n",
    "\n",
    "# Delete the table 1 columns\n",
    "table_2_dataset = merge_dataset.remove_columns(['review_text', 'review_title'])\n",
    "table_2_dataset"
   ]
  },
  {
   "cell_type": "code",
   "execution_count": 95,
   "metadata": {},
   "outputs": [
    {
     "name": "stdout",
     "output_type": "stream",
     "text": [
      "<class 'datasets.arrow_dataset.Dataset'>\n"
     ]
    }
   ],
   "source": [
    "print(type(dataset[\"train\"]))"
   ]
  },
  {
   "cell_type": "code",
   "execution_count": 5,
   "metadata": {},
   "outputs": [],
   "source": [
    "# Just save our interesting three columns\n",
    "reduced_dataset = train_dataset.remove_columns(['hotel_description', 'rate', 'tripdate', 'hotel_url',\n",
    "                                                 'hotel_image', 'price_range', 'rating_value', 'review_count',\n",
    "                                                 'street_address', 'locality', 'country'])"
   ]
  },
  {
   "cell_type": "code",
   "execution_count": 6,
   "metadata": {},
   "outputs": [
    {
     "name": "stderr",
     "output_type": "stream",
     "text": [
      "2024-02-10 22:53:30,265\tINFO worker.py:1724 -- Started a local Ray instance.\n"
     ]
    }
   ],
   "source": [
    "@ray.remote\n",
    "def process_data_point(dp):\n",
    "    text = \"\"\n",
    "    if dp['review_text']:\n",
    "        text = dp['review_text']\n",
    "    return dp['hotel_name'], (dp['review_title'], text)\n",
    "\n",
    "futures = [process_data_point.remote(dp) for dp in reduced_dataset]\n",
    "\n",
    "results = ray.get(futures)\n",
    "\n",
    "hotel_reviews = {}\n",
    "for hotel_name, review in results:\n",
    "    if hotel_name not in hotel_reviews:\n",
    "        hotel_reviews[hotel_name] = []\n",
    "    hotel_reviews[hotel_name].append(review)\n",
    "\n",
    "# hotel_reviews Table 1"
   ]
  },
  {
   "cell_type": "markdown",
   "metadata": {},
   "source": [
    "### Chunk data"
   ]
  },
  {
   "cell_type": "code",
   "execution_count": 68,
   "metadata": {},
   "outputs": [],
   "source": [
    "# Have to install langchain first\n",
    "import json\n",
    "from langchain.document_loaders import ReadTheDocsLoader\n",
    "from langchain.text_splitter import RecursiveCharacterTextSplitter\n",
    "\n",
    "# Text splitter\n",
    "chunk_size = 500\n",
    "chunk_overlap = 50\n",
    "text_splitter = RecursiveCharacterTextSplitter(\n",
    "    separators=[\"\\n\\n\", \"\\n\", \" \", \"\"],\n",
    "    chunk_size=chunk_size,\n",
    "    chunk_overlap=chunk_overlap,\n",
    "    length_function=len,\n",
    ")\n",
    "\n",
    "# Chunk a sample section\n",
    "\n",
    "first_key = next(iter(hotel_reviews))\n",
    "data_review = {}\n",
    "li = []\n",
    "\n",
    "for k, v in hotel_reviews.items():\n",
    "    # sample_section = v\n",
    "    all_reviews = \"\"\n",
    "    for review in v:\n",
    "        all_reviews += review[0] + review[1] + \" - \"\n",
    "    data_review[k] = all_reviews\n",
    "    li.append(all_reviews)\n",
    "    # count += 1\n",
    "\n",
    "# print(count)"
   ]
  },
  {
   "cell_type": "code",
   "execution_count": 82,
   "metadata": {},
   "outputs": [],
   "source": [
    "chunked_dict = {}\n",
    "def chunk_string(string, chunk_size):\n",
    "    return [string[i:i+chunk_size] for i in range(0, len(string), chunk_size)]\n",
    "\n",
    "chunk_size = 2500\n",
    "for key, value in data_review.items():\n",
    "    chunked_dict[key] = chunk_string(value, chunk_size)\n",
    "\n",
    "# chunked_dict is for table 1 to be summarized"
   ]
  },
  {
   "cell_type": "code",
   "execution_count": null,
   "metadata": {},
   "outputs": [],
   "source": [
    "first_review = data_review[first_key]\n",
    "sample_chunk = first_review[:500]\n",
    "\n",
    "new_key = next(iter(chunked_dict))\n",
    "new_first = chunked_dict[new_key]\n"
   ]
  },
  {
   "cell_type": "code",
   "execution_count": 86,
   "metadata": {},
   "outputs": [
    {
     "name": "stdout",
     "output_type": "stream",
     "text": [
      "Romance Istanbul Hotel Great location, walking distance to all of the main attractions. All the staff is very friendly and helpful. Close to the old city and Topcapi. Very nice breakfast with different menu options every day. Spa is nice and of course location is great near old city.Great location, walking distance to all of the main attractions. All the staff is very friendly and helpful. Close to the old city and Topcapi. Very nice breakfast with different menu options every day. Spa is nice and of course location is great near old city.Great location, walking distance to all of the main attractions. All the staff is very friendly and helpful. Close to the old city and Topcapi. Very nice breakfast with different menu options every day. Spa is nice and of course location is great near old city.Great location, walking distance to all of the main attractions. All the staff is very friendly and helpful. Close to the old city and Topcapi. Very nice breakfast with different menu options every day. Spa is nice and of course location is great near old city.Great location, walking distance to all of the main attractions. All the staff is very friendly and helpful. Close to the old city and Topcapi. Very nice breakfast with different menu options every day. Spa is nice and of course location is great near old city.\n"
     ]
    }
   ],
   "source": [
    "from transformers import pipeline\n",
    "summarizer = pipeline(\"summarization\", model=\"facebook/bart-large-cnn\")\n",
    "\n",
    "summarized_dict = {}\n",
    "\n",
    "count = 0\n",
    "for k, v in chunked_dict.items():\n",
    "    final_output = \"\"\n",
    "    for chunk in v:\n",
    "        summary = summarizer(v, max_length = 100, min_length = 50, do_sample=False)\n",
    "        final_output += summary[0]['summary_text']\n",
    "    summarized_dict[k] = final_output\n",
    "    if count == 0: \n",
    "        print(k, final_output)\n",
    "        break"
   ]
  },
  {
   "cell_type": "code",
   "execution_count": 89,
   "metadata": {},
   "outputs": [
    {
     "name": "stdout",
     "output_type": "stream",
     "text": [
      "226\n"
     ]
    }
   ],
   "source": [
    "print(len(str(summarized_dict[first_key]).split(\" \")))"
   ]
  },
  {
   "cell_type": "code",
   "execution_count": null,
   "metadata": {},
   "outputs": [],
   "source": [
    "import csv \n",
    "\n",
    "csv_filename = 'output.csv'  # Replace with your actual file path\n",
    "\n",
    "# Initialize an empty dictionary to store the data\n",
    "csv_data = {}\n",
    "\n",
    "# Read the CSV file and populate the dictionary\n",
    "header = True\n",
    "with open(csv_filename, 'r') as csvfile:\n",
    "    reader = csv.reader(csvfile)\n",
    "\n",
    "    # Read the header and initialize keys\n",
    "    # header = next(reader, None)\n",
    "\n",
    "    # Read the remaining rows and populate the dictionary\n",
    "    for row in reader:\n",
    "        if header:\n",
    "            header = False\n",
    "            continue\n",
    "        # print(row)\n",
    "        csv_data[row[0]] = row[1]\n",
    "\n",
    "# Print or use the resulting dictionary\n",
    "print(csv_data)"
   ]
  },
  {
   "cell_type": "code",
   "execution_count": 108,
   "metadata": {},
   "outputs": [
    {
     "name": "stdout",
     "output_type": "stream",
     "text": [
      "{'hotel_name': 'Romance Istanbul Hotel', 'review': 'The room was absolutely amazing, we had the Royal Suite, the restaurant had very fresh and tasty food. The breakfast was excellent and again the restaurant staff were very polite and helpful. The spa soooo relaxing and clean. In one word FABULOUS!! - Great place, highly recommended. The hotel was in a great location for the palace and blocks away from the bazaar’s. Coffee down the street along with taxi drop off and pick up. Staff was friendly and welcoming. Free welcome drink and snack. Decoration is nice and homey. The hotel was very clean and the room had everything needed to have a comfortable stay. The staff was amazing and helped with everything that was needed. The Turkish breakfast every morning was very delicious, abundant and reasonable. The tea service every afternoon was free and delightful. We couldn’t have wished for a better experience. Highly recommend this hotel. Location is very good near historical places and Hagia Sophia and best place Topkapi.st and service is nice. Rooms was clean and nice also hotel is very clean. Especially staff is extreamly good thanks a lot lady Shirin who is always helpful with me. And thank you so much Faruk.', 'hotel_description': 'Romance Istanbul Hotel has 39 rooms.Every room is elegantly furnished and harmonizes the modern life style with the traditional Ottoman touch. Romance Istanbul sits at the intersection of the old city’s most important part. With its luxuriously inspiring design and landmark old city location, steeped in the history of its surroundings, Romance Istanbul Hotel welcomes you with exceptional designed rooms and world-renowned Turkish hospitality. Our colleagues deliver the most personal service. It is perfectly placed and perfectly designed to enhance all that Istanbul has to offer. Each room offers a private bathroom and shower. Each is equipped with a satellite TV and free wifi connection. The rooms size change between 20 m2 and 45 m2. It includes 7 suite rooms: 1 Royal Suite, 4 Grand Suite, 1 Romance Suite and 1 Premium Suite, 2 Luxury Room With Terrace, 22 Deluxe Room, 8 City Room.', 'rate': None, 'tripdate': ' February 2020', 'hotel_url': 'https://www.tripadvisor.com/Hotel_Review-g293974-d8364987-Reviews-Romance_Istanbul_Hotel-Istanbul.html', 'hotel_image': 'https://media-cdn.tripadvisor.com/media/photo-s/1c/02/78/ba/romance-istanbul-hotel.jpg', 'price_range': '$ (Based on Average Nightly Rates for a Standard Room from our Partners)', 'rating_value': 5.0, 'review_count': 4023, 'street_address': 'Hudavendigar Cd. No:5 Sirkeci', 'locality': 'Istanbul', 'country': 'Turkiye'}\n"
     ]
    }
   ],
   "source": [
    "documents = []\n",
    "for row in table_2_dataset:\n",
    "    new_hotel = {}\n",
    "    name = row[\"hotel_name\"]\n",
    "    review = csv_data[name]\n",
    "    new_hotel[\"hotel_name\"] = name\n",
    "    new_hotel[\"review\"] = review\n",
    "\n",
    "    for col, value in row.items():\n",
    "        new_hotel[col] = value\n",
    "    documents.append(new_hotel)\n",
    "print(documents[0])"
   ]
  },
  {
   "cell_type": "markdown",
   "metadata": {},
   "source": [
    "### Embedding"
   ]
  },
  {
   "cell_type": "code",
   "execution_count": 109,
   "metadata": {},
   "outputs": [],
   "source": [
    "from sentence_transformers import SentenceTransformer\n",
    "\n",
    "encoder = SentenceTransformer(\"all-MiniLM-L6-v2\")"
   ]
  },
  {
   "cell_type": "markdown",
   "metadata": {},
   "source": [
    "#### VECTOR DB Downstairs"
   ]
  },
  {
   "cell_type": "code",
   "execution_count": 110,
   "metadata": {},
   "outputs": [],
   "source": [
    "from qdrant_client import models, QdrantClient"
   ]
  },
  {
   "cell_type": "code",
   "execution_count": 111,
   "metadata": {},
   "outputs": [],
   "source": [
    "qdrant = QdrantClient(\":memory:\")\n",
    "\n",
    "\n",
    "qd = qdrant.recreate_collection(\n",
    "    collection_name=\"hotels\",\n",
    "    vectors_config=models.VectorParams(\n",
    "        size=encoder.get_sentence_embedding_dimension(),  # Vector size is defined by used model\n",
    "        distance=models.Distance.COSINE,\n",
    "    ),\n",
    "    \n",
    ")\n",
    "\n",
    "qdrant.upload_records(\n",
    "    collection_name=\"hotels\",\n",
    "    records=[\n",
    "        models.Record(\n",
    "            id=idx, vector=encoder.encode(doc[\"review\"]).tolist(), payload=doc\n",
    "        )\n",
    "        for idx, doc in enumerate(documents)\n",
    "    ],\n",
    ")"
   ]
  },
  {
   "cell_type": "code",
   "execution_count": 114,
   "metadata": {},
   "outputs": [
    {
     "name": "stdout",
     "output_type": "stream",
     "text": [
      "{'hotel_name': 'Hyatt Regency San Francisco', 'review': 'The Hyatt Regency is one of the best hotels in San Francisco due to its waterfront location while still being in downtown and across from the Embarcadero and pier. It has a great Regency club at the rooftop with a great view. The food was good, but it kept coming out in small batches. The hotel is in a great location, is clean and modern, and has great staff. The hotel rooms and gym are clean andModern. Dining options are very limited. There’s a food market for snacks and beverages and a bar on site with very limited menu. The lobby bar and restaurant has been thoroughly refreshed. It feels very intimate despite being in the middle of the cavernous lobby/atrium. The atrium itself now has lots of wooden benches, sofas, and plugs for charging. In-room renovations have likewise created a comfortable environment you might want to linger in. ompany party. We dpo  - Great Service and Cleanliness - A Property In A Fantastic Location....That Needs A Little TLC - Hyatt Embarcadero getaway. Impressive venue, good service and great location for family city break. Not worth the stay during Covid.', 'hotel_description': \"The 821-room Hyatt Regency San Francisco is the City's only luxury waterfront hotel with breathtaking views of San Francisco bay and bustling city. Ideally located for business and leisure, the hotel is located on Embarcadero across the historical Ferry Building, near the Financial District, and close to all major city attractions.\", 'rate': None, 'tripdate': ' May 2023', 'hotel_url': 'https://www.tripadvisor.com/Hotel_Review-g60713-d81103-Reviews-Hyatt_Regency_San_Francisco-San_Francisco_California.html', 'hotel_image': 'https://media-cdn.tripadvisor.com/media/photo-s/29/0e/97/f7/exterior.jpg', 'price_range': '$$ (Based on Average Nightly Rates for a Standard Room from our Partners)', 'rating_value': 4.0, 'review_count': 6852, 'street_address': '5 Embarcadero Center', 'locality': 'San Francisco', 'country': 'United States'} score: 0.6988724398365771\n",
      "{'hotel_name': 'Staypineapple - An Elegant Hotel', 'review': \"The ambiance and room were so cute and clean. The staff were all so sweet and the pineapple them was so unique and fun! I would highly recommend this hotel to anyone coming to SF! We will definitely be back again in the future! - Had an excellent stay!We loved this place! Super nice staff and beautiful room. The robes are so soft and love all the pineapple-related perks. Staypineapple is located on Geary and Jones in downtown San Francisco. The hotel is pet friendly and has a great breakfast bar. The rooms are so cute and very well taken care of. The service is great and the rooms are very comfortable. The staff is friendly and the decor is very stylish. StayPinapple in San Francisco is one of the best hotels in the city. The hotel is located in the heart of San Francisco's Mission District. The rooms are on the smaller side but they have everything you would need and more. The bed came with two comforters and the softest pillows.\", 'hotel_description': \"Steps from Union Square, and newly re-imagined, Staypineapple San Francisco provides a metropolitan home base for your San Francisco adventures. A short walk from the Moscone Center, you will find world-class shopping, dining and entertainment just around the corner. Staypineapple San Francisco's expansive lobby offers plush, stylish seating for working or relaxing. And if you're looking for a quick bite or a leisurely cocktail, try Pineapple Bistro and Bar for a convenient and elegant option. Sophisticated and thoughtfully designed guest rooms offer a luxe retreat from the hustle and bustle of city life and an opportunity to enjoy quiet moments - alone or with that special someone. Say hello to posh comfort and timeless style when you Staypineapple in Union Square.\", 'rate': 5.0, 'tripdate': ' January 2024', 'hotel_url': 'https://www.tripadvisor.com/Hotel_Review-g60713-d81363-Reviews-Staypineapple_An_Elegant_Hotel-San_Francisco_California.html', 'hotel_image': 'https://dynamic-media-cdn.tripadvisor.com/media/photo-o/29/07/41/d6/san-francisco-interiors.jpg?w=500&h=-1&s=1', 'price_range': '$ (Based on Average Nightly Rates for a Standard Room from our Partners)', 'rating_value': 4.5, 'review_count': 2016, 'street_address': '580 Geary St', 'locality': 'San Francisco', 'country': 'United States'} score: 0.6820473998618257\n",
      "{'hotel_name': 'Fairmont San Francisco', 'review': \"The hotel is an ideal location to a lot of key attractions. The staff at the hotel are tremendous. The views of San Francisco Bay are outstanding. As Platinum ALL members, our suite was upgraded before we arrived to one with a magnificent view. The shades in the bathroom were not functional. Windows were disgusting with hand prints. The hotel's website is definitely showing Christmas photos from sometime ago. The pillows were probably the worst hotel pillows I've ever experienced. The Tonga Room felt like a frat party. It's sad because you can tell at one point this hotel was the height of sophistication, but it's sadly been run down. The life size gingerbread house means the lobby is filled with the smell of gingerbread, the christmas tree and tea room were gorgeously decorated. The only negative was the mediocre $60 buffet, which you couldn’t opt out of. Valet parking onsite and champagne tree! The Fairmont San Francisco is a five star hotel. It is located in the heart of San Francisco. The hotel is close to Fisherman’s Wharf and Chinatown. The Fairmont is located on the San Francisco Bay. It has a reputation for being a great value for money.\", 'hotel_description': \"World-renowned, Fairmont San Francisco hotel presents an awe-inspiring picture of historic San Francisco. The grandeur of the hotel coupled with its reputation for impeccable service promises a truly memorable experience. Known for turning moments into memories for leisure and business travelers alike this luxury San Francisco hotel has been host to some of the most influential meetings and events, breathtaking weddings and personalized special occasions of the century. Fairmont San Francisco hotel provides accommodations that are a testament to luxury with 606 individually furnished and decorated guest rooms. The 62 elegant suites offer impressive views of the City and Bay. The hotel combines classic ambience with modern amenities. For business travelers, Fairmont San Francisco hotel accommodations features include a spacious work desk, multi-line telephone with voice-mail and High Speed Internet Access. Each of the hotel's spacious guest rooms and suites have been elegantly updated including flat screen TVs, luxury linen ensembles and pillow top beds. Several of Fairmont San Francisco’s most sought-after amenities are bundled into a daily Urban Experience Fee, eliminating multiple individual charges and providing a discounted value for services. Please visit our website for more information.\", 'rate': None, 'tripdate': ' August 2022', 'hotel_url': 'https://www.tripadvisor.com/Hotel_Review-g60713-d81397-Reviews-Fairmont_San_Francisco-San_Francisco_California.html', 'hotel_image': 'https://dynamic-media-cdn.tripadvisor.com/media/photo-o/0e/af/0d/38/fairmont-san-francisco.jpg?w=500&h=400&s=1', 'price_range': '$$ (Based on Average Nightly Rates for a Standard Room from our Partners)', 'rating_value': 4.5, 'review_count': 5070, 'street_address': '950 Mason St', 'locality': 'San Francisco', 'country': 'United States'} score: 0.6808412712944216\n",
      "{'hotel_name': \"Hotel Caza Fisherman's Wharf\", 'review': \"Hotel Caza is located close to Fisherman's Wharf. The rooms were clean, quiet, and comfortable. The staff were very accommodating and pleasant to deal with. The beds are comfortable, but the pillows are so flat - not comfortable or supportive at all. Hotel Caza is in Fisherman's Wharf, close to the Embarcadero and Pier 39. Great location, great staff, great parking, clean rooms, games in the lobby like pool and shuffleboard, bikes to use. Not good with communication or return of room deposits. Hotel Caza at Fisherman’s Wharf was a fun place to stay. The rooms were clean and well appointed. The staff were friendly and helpful. The bar was well stocked. For San Francisco this hotel was very reasonably priced. For a family vacation, stay here! You won’t be disappointed!\", 'hotel_description': \"Hotel Caza is a family-friendly hotel in the heart of historic Fisherman's Wharf that embodies the spirit of California, full of fun, warmth, and special extras to enhance your vacation experience. We invite you to cruise in and experience authentic San Francisco in a perfect location.\", 'rate': None, 'tripdate': ' January 2023', 'hotel_url': 'https://www.tripadvisor.com/Hotel_Review-g60713-d19065465-Reviews-Hotel_Caza_Fisherman_s_Wharf-San_Francisco_California.html', 'hotel_image': 'https://dynamic-media-cdn.tripadvisor.com/media/photo-o/1b/25/36/55/hotel-caza.jpg?w=500&h=-1&s=1', 'price_range': '$$ (Based on Average Nightly Rates for a Standard Room from our Partners)', 'rating_value': 4.5, 'review_count': 789, 'street_address': '1300 Columbus Avenue', 'locality': 'San Francisco', 'country': 'United States'} score: 0.676088786497751\n",
      "{'hotel_name': 'Hotel Nikko San Francisco', 'review': 'Hotel Nikko is my favorite hotel in San Francisco. The rooms are spacious, comfortable, and modern with all the amenities of a luxury hotel. The staff is very professional, especially the front desk, and they go out their way to make the customers feel special. The hotel is always very clean and comfortable. The amenities are excellent and the staff is professional and friendly. The gym and pool area are wonderful. The breakfast buffet is delicious. The best part of our hotel experience is how we felt calmness throughout our stay. Calm luxury is experiencing SF Nikko. Hotel Nikko is a gem that is  not to be missed. The location is excellent, within easy walking distance of the Moscone Center, Union Square, China Town, and many great restaurants. The staff are super friendly and helpful. And, Johnny Foley\\'s Irish House is just across the street! Hotel Nikko is located in the heart of downtown San Francisco. The location is within easy reach of all the Downtown shopping and restaurants like nearby Union Square. The hotel is classy without the high prices. Do Not Book through Expedia! - Beware the \"amenties fee\" when you book - Nice, but not flawless, and expensive. in about the UPS store - San Francisco Summer Mom/daughter Getaway - Great stay. Great stay -   \\xa0in about  the UPS Store - \\xa0San Francisco Summer Mother/ Daughter Getaway. Great Stay - Great Stay. \\xa0In about the U.S. UPS store -- San Francisco Mother/Daughter Getaway -- Great stay ', 'hotel_description': 'Retreat to Hotel Nikko in San Francisco, where personalized service meets cutting-edge style. Our hotel is set in the heart of the city, just steps from Union Square shops and restaurants, making it the ideal destination for both business and leisure travel. Our four-diamond rated property features 532 guest rooms and 22 suites, each with pillow-top beds, high-speed internet, and a wealth of modern amenities.', 'rate': 5.0, 'tripdate': ' January 2024', 'hotel_url': 'https://www.tripadvisor.com/Hotel_Review-g60713-d80793-Reviews-Hotel_Nikko_San_Francisco-San_Francisco_California.html', 'hotel_image': 'https://media-cdn.tripadvisor.com/media/photo-s/29/ad/27/9d/exterior-hotel-nikko.jpg', 'price_range': '$$ (Based on Average Nightly Rates for a Standard Room from our Partners)', 'rating_value': 4.0, 'review_count': 4693, 'street_address': '222 Mason St', 'locality': 'San Francisco', 'country': 'United States'} score: 0.6753714614278205\n"
     ]
    }
   ],
   "source": [
    "hits = qdrant.search(\n",
    "    collection_name=\"hotels\",\n",
    "    query_vector=encoder.encode(\"Good Family San Francisco Hotel with nice view\").tolist(),\n",
    "    limit=5,\n",
    ")\n",
    "for hit in hits:\n",
    "    print(hit.payload, \"score:\", hit.score)"
   ]
  },
  {
   "cell_type": "code",
   "execution_count": 115,
   "metadata": {},
   "outputs": [],
   "source": [
    "qdrant_client = QdrantClient(\n",
    "    \"https://2440eff1-bd4d-4080-bffd-bdb046f95447.us-east4-0.gcp.cloud.qdrant.io\",\n",
    "    api_key=\"v_cLOKp3fNY1HsUwpGRpxy_PyY3fsmARz46M8GyWfkkRrJHe_7uehQ\",\n",
    ")"
   ]
  },
  {
   "cell_type": "code",
   "execution_count": 116,
   "metadata": {},
   "outputs": [],
   "source": [
    "qd = qdrant_client.recreate_collection(\n",
    "    collection_name=\"hotels\",\n",
    "    vectors_config=models.VectorParams(\n",
    "        size=encoder.get_sentence_embedding_dimension(),  # Vector size is defined by used model\n",
    "        distance=models.Distance.COSINE,\n",
    "    ),\n",
    "    \n",
    ")\n",
    "\n",
    "qdrant_client.upload_records(\n",
    "    collection_name=\"hotels\",\n",
    "    records=[\n",
    "        models.Record(\n",
    "            id=idx, vector=encoder.encode(doc[\"review\"]).tolist(), payload=doc\n",
    "        )\n",
    "        for idx, doc in enumerate(documents)\n",
    "    ],\n",
    ")"
   ]
  },
  {
   "cell_type": "code",
   "execution_count": 139,
   "metadata": {},
   "outputs": [],
   "source": [
    "hits = qdrant_client.search(\n",
    "    collection_name=\"hotels\",\n",
    "    query_vector=encoder.encode(\"Good Family Istanbul Hotels with nice view\").tolist(),\n",
    "    limit=5,\n",
    "    query_filter=models.Filter(\n",
    "        must=[\n",
    "            models.FieldCondition(\n",
    "                key=\"locality\",\n",
    "                match=models.MatchValue(\n",
    "                    value=\"Istanbul\",\n",
    "                ),\n",
    "            )\n",
    "        ]\n",
    "    )\n",
    ")"
   ]
  },
  {
   "cell_type": "code",
   "execution_count": 140,
   "metadata": {},
   "outputs": [
    {
     "name": "stdout",
     "output_type": "stream",
     "text": [
      "id=29 version=2 score=0.7665979 payload={'country': 'Türkiye', 'hotel_description': 'A new meeting point for the business world in İstanbul Basin Ekspres. The 5 star Elite World Grand İstanbul Basın Ekspres Hotel will start serving in February 2017 and you will enjoy its accommodation facilities with high quality standards for your business travels or leisure getaways. Elite World Grand İstanbul Basın Ekspres, 5 minutes distance from International İstanbul Atatürk International Airport, 12 minutes distance from congress, fair and exhibition centers such as CNR Expo, IDTM and TUYAP. Our Istanbul luxury hotel is only 25 minutes away from Istanbul\\'s city center and the old city. Luxurious 401 rooms and suites, 9 meeting rooms with a capacity of 2500 people, authentic examples of Turkish and international cuisines and a superb service are offered in \"The Grill Restaurant,\" The \\'\\'Coffee Company\\'\\' where you will be eating your daily cake and sipping your coffee with pleasure, \"The One Bar\" where you will be having happy hours, , the indoor - outdoor car park and many more attractions are waiting for you at Elite World Grand İstanbul Basın Ekspres.', 'hotel_image': 'https://dynamic-media-cdn.tripadvisor.com/media/photo-o/0f/a8/34/14/elite-world-europe-hotel.jpg?w=500&h=400&s=1', 'hotel_name': 'Elite World Grand İstanbul Basın Ekspres', 'hotel_url': 'https://www.tripadvisor.com/Hotel_Review-g293974-d10163554-Reviews-Elite_World_Grand_Istanbul_BasIn_Ekspres-Istanbul.html', 'locality': 'Istanbul', 'price_range': '$ (Based on Average Nightly Rates for a Standard Room from our Partners)', 'rate': 5.0, 'rating_value': 4.0, 'review': \"The hotel and the staff have a very welcoming feeling and attitude. They have a hair salon, a huge swimming pool good for laps, a sauna, huge steam room and hamam room separate lockers for men and women. Breakfast is buffet and plentiful with large assortment of cheese, fresh fruits and bread. Gym and swimming pool are great. Istanbul hotel has the world's first rainforest in lobby. Hotel is so nice clean and friendly staff. I will come back this Hotel because of Melisa. Hotel has the most amazing and lovely staff - Unpleasant stay, will never book in this hotel again - Good SPA, good services.\", 'review_count': 219, 'street_address': 'Basin Ekspres Caddesi No: 4 Halkali Kucukcekmece', 'tripdate': ' June 2023'} vector=None shard_key=None\n",
      "id=10 version=2 score=0.7305275 payload={'country': 'Turkiye', 'hotel_description': 'The building named after Kumbaracı Ramp, one of the most well-known streets of Beyoğlu consists of 24 rooms with a surface area of approximately 23-61 sq. meters and bar with a fireplace, restaurant and bistro.This building that attracts the attention of people walking by in Istiklal Street with its historical exteriors is located in Asmalı Mescit that became the center of not only our cultural heritage but also the entertainment with lively cafés and restaurants.Asmalı Mescit, the most well-known area of Beyoğlu and the most popular district of historical Pera resisting to being forgotten and defeated by time is the meeting point of entertainment lovers thanks to its night clubs and bars. Current historic fabric was restored with modern lines and it is surrounded by boutique hotels, restaurants and entertainment facilities. Thus Asmalımescit, the center of night life in Istanbul and the mirror of Beyoğlu not only entertains but also displays the finest details of cultural heritage. The building of The Story Hotel Pera dating back to early 1900s and matching with this location elegantly features the typical characteristics of French architecture that forms the architectural style of Beyoğlu predominantly. It was intended to create large suit rooms in this building which was decorated successfully to maximize the functionality. The Story Hotel Pera combines the modernism and history with its high ceilings, large passageways, marble spiral staircase and bar in the ground floor.', 'hotel_image': 'https://media-cdn.tripadvisor.com/media/photo-s/22/a6/a8/9a/entrance-the-story-hotel.jpg', 'hotel_name': 'The Story Hotel Pera', 'hotel_url': 'https://www.tripadvisor.com/Hotel_Review-g293974-d2049041-Reviews-The_Story_Hotel_Pera-Istanbul.html', 'locality': 'Istanbul', 'price_range': '$ (Based on Average Nightly Rates for a Standard Room from our Partners)', 'rate': None, 'rating_value': 5.0, 'review': 'Boutique hotel in the heart of Beyoglu. Great hotel, great service, great location - Excellent. Probably the best boutique hotel in Istanbul. Easy access to stores on istiklal & restaurants on Asmali mescit. Staff are very helpful & provided excellent service during our stay. Hotel Story is located in the centre of Istanbul. The hotel is less than ten minutes from the cruise port. The rooms are spacious and very well appointed. The staff are friendly and courteous. The complimentary remote Wi-Fi box was a pleasant and valuable service. I highly recommend this hotel.', 'review_count': 166, 'street_address': 'KumbaracI Sk. No 66 Beyoglu', 'tripdate': ' July 2022'} vector=None shard_key=None\n",
      "id=9 version=2 score=0.7266561 payload={'country': 'Turkiye', 'hotel_description': None, 'hotel_image': 'https://media-cdn.tripadvisor.com/media/photo-s/12/cd/3c/31/primero-hotel.jpg', 'hotel_name': 'Primero Hotel', 'hotel_url': 'https://www.tripadvisor.com/Hotel_Review-g293974-d14012180-Reviews-Primero_Hotel-Istanbul.html', 'locality': 'Istanbul', 'price_range': '$ (Based on Average Nightly Rates for a Standard Room from our Partners)', 'rate': 5.0, 'rating_value': 5.0, 'review': \"Hotel is located in a good location and there are many places and attractions to walk to just a few minutes away. The staff are very hard working and the manager Mr. Ozgul was lovely. Hotel is located next to a cargo company and it doesn't have sound proofing. Hotel is very close to all the important sight-seeing in Sultanahmet Area. Rooms are very decent in size and very clean. Walk able to Topkapi Palace, Basilica Cistern. Hotel location is also superb, close to main attractions. Hotel is by far the best hotel I have stayed at in Istanbul. ave ever been to in Istanbul.  The staff has been really nice to us especially Veysel Buluk and Omer Succin who has taken care of us from the check-in, check-out and the transfers. I highly recommend El Primero Hotel for a top-notch stay. - Clean and Family hotelEverything about this hotel is absolutely amazing with the stuff you especially with Vey Sel. - Great location A+ hospitality at this hotel! Great location to all the tourist spots. Location was the best. Quiet street, walking distance to sulthanamet square and grand bazaar. Restaurants nearby. Very clean hotel, the receptionist is always there to help. Cons: Breakfast while it was nice could use some variation now and then. Shower area was very small so bit of a tight space there when you close the shower screens. Small but modern rooms, very helpful and friendly staff. Location is wonderful and very convenient to shops and the historical sites such as the Aya Sophia and the Blue Mosque. Breakfast is below average to average quality, but not a dealbreaker as free breakfast is just an added benefit.\", 'review_count': 719, 'street_address': 'Pertevpasa Sok. No:25 Emi̇nsi̇nan Mah.', 'tripdate': ' January 2024'} vector=None shard_key=None\n",
      "id=2 version=2 score=0.72396535 payload={'country': 'Turkiye', 'hotel_description': \"Boasting a perfect location between 2 continents, indulge in a stay at Conrad Istanbul Bosphorus and discover yourself at one of the world's most alluring destinations. At the very centre of the city, yet far away from the hustle and bustle, Conrad Istanbul Bosphorus's rooms and suites allow for the highest standard of relaxation, complete with personalised comfort and services. Savor Mediterranean cuisine at Manzara, take in the view of the Bosphorus while lounging at the Summit Bar. Relax with Spa treatments, enjoy a revitalizing workout in the brand-new health club and clay tennis courts.\", 'hotel_image': 'https://media-cdn.tripadvisor.com/media/photo-s/2a/fe/53/c3/exterior.jpg', 'hotel_name': 'Conrad Istanbul Bosphorus', 'hotel_url': 'https://www.tripadvisor.com/Hotel_Review-g293974-d294658-Reviews-Conrad_Istanbul_Bosphorus-Istanbul.html', 'locality': 'Istanbul', 'price_range': '$ (Based on Average Nightly Rates for a Standard Room from our Partners)', 'rate': 5.0, 'rating_value': 4.5, 'review': \"The hotel was so much clean and comfortable. I really loved the view aThe employees were awesome. The location of the hotel is also very good. The rooom is perfectly clean and tidy. The buffet has a variety of menus, which is great for international visitors. The view is great. The hotel is in a great location with easy access to the waterfront, bus stop is outside to get into Grand Bazaar and the Metro is a 10 minute walk away. There’s a happy hour between 5pm and 7pm where there's dinner served, as well as free alcoholic drinks. The G&Ts with grapefruit are beautiful. Istanbul is the best city in the world and the most beautiful and the best hotel is Conrad. The hotel is very clean and safe. All the staff are well trained and mannered. However the struggle of English language by some of the staff wasn't great. I can't exit the screen as I have to write at least 200 characters! Conrad Bosporus is a top hotel in Istanbul, Turkey. Guests can enjoy a panoramic view of the Bosporu Straits. The hotel is located in the Bestikas neighborhood of the city. It is also close to the Bosphorus Bridge and the Blue Mosque.\", 'review_count': 8558, 'street_address': 'Saray Cd No: 5 Cihannuma Mah.', 'tripdate': ' January 2024'} vector=None shard_key=None\n",
      "id=7 version=2 score=0.715535 payload={'country': 'Turkiye', 'hotel_description': \"White House Hotel Istanbul is located in the heart of the historical peninsula and it is within walking distance to Hagia Sophia, Blue Mosque, Topkapi Palace, Archeology Museum, the Basilica Cistern, Grand Bazaar, Spice Bazaar, the Millennium Stone and Byzantine Hippodrome, which are the most important landmarks of the city. White House Hotel Istanbul is the ideal starting place for exploring this Ottoman capital city's endless historical sites, museums, restaurants, clubs and shops.\", 'hotel_image': 'https://media-cdn.tripadvisor.com/media/photo-s/1b/c4/f7/fb/white-house-hotel-istanbul.jpg', 'hotel_name': 'White House Hotel Istanbul', 'hotel_url': 'https://www.tripadvisor.com/Hotel_Review-g293974-d1604061-Reviews-White_House_Hotel_Istanbul-Istanbul.html', 'locality': 'Istanbul', 'price_range': '$ (Based on Average Nightly Rates for a Standard Room from our Partners)', 'rate': 5.0, 'rating_value': 5.0, 'review': 'White House Hotel Istanbul is by far the best hotel in the World I have stayed in, in Sultanahmet. Extremely clean and well kept hotel. Excellent staff, very polite and helpful. They go the extra mile for their guest! The Manager Harun listens to his guess needs and give personal attention to every guest! - A hidden gem that is worth visiting. The White House Hotel is located in the heart of the old town in 5-10 minutes walking distance from the Blue Mosque, Hagia Sophia, the Grand Bazaar and a myriad of restaurants with delicious food. Hotel has a roof-top terrace where they serve breakfast and where you can use a coffee machine 24x7 which is very nice. White House Hotel Istanbul is a beautiful place to stay Management/stuff  is very helpful And the breakfast area on the roof top give the beautiful view  restaurants and grand bazar is on walking distance too Harun helped me with the train pass also he is very very friendly and trustworthy Over all I loved it!! The White House is a boutique hotel in central Istanbul. The hotel is a block away from Hagia Sophia. The rooms are small and that was the only \"surprise\" of the stay. The staff are always welcoming, kind and always available. The breakfast is AMAZING. The view from the veranda on the top floor is stunning, an unobstructed view of Aya Sofia and Bosphorus Bridge. The location is also perfectly situated close to all the points of interest in the city. The room service was found extremely prompt and supply items on a call when needed.', 'review_count': 7594, 'street_address': 'Alemdar Mahallesi Catalcesme Sok No:21', 'tripdate': ' January 2024'} vector=None shard_key=None\n"
     ]
    },
    {
     "data": {
      "text/plain": [
       "0"
      ]
     },
     "execution_count": 140,
     "metadata": {},
     "output_type": "execute_result"
    }
   ],
   "source": [
    "total = 0\n",
    "for hit in hits:\n",
    "    if hit.score > 0.5:\n",
    "        print(hit)\n",
    "total"
   ]
  },
  {
   "cell_type": "markdown",
   "metadata": {},
   "source": [
    "### Connecting with qdrant-client endpoint\n",
    "\n",
    "1. Qdrant-client is running\n",
    "2. Am able to curl and setup a instance called QdrantClient"
   ]
  },
  {
   "cell_type": "code",
   "execution_count": null,
   "metadata": {},
   "outputs": [],
   "source": [
    "# from qdrant_client import QdrantClient\n",
    "# from sentence_transformers import SentenceTransformer\n",
    "\n",
    "# # encoder = SentenceTransformer(\"all-MiniLM-L6-v2\")\n",
    "# # encoder = SentenceTransformer(\"distilbert-base-nli-mean-tokens\")\n",
    "\n",
    "# client_mem = QdrantClient(\":memory:\")\n",
    "\n",
    "# qdrant_client = QdrantClient(\n",
    "#     \"https://2440eff1-bd4d-4080-bffd-bdb046f95447.us-east4-0.gcp.cloud.qdrant.io\",\n",
    "#     api_key=\"v_cLOKp3fNY1HsUwpGRpxy_PyY3fsmARz46M8GyWfkkRrJHe_7uehQ\",\n",
    "# )"
   ]
  },
  {
   "cell_type": "code",
   "execution_count": null,
   "metadata": {},
   "outputs": [],
   "source": [
    "# docs = [\"Qdrant has Langchain integrations\", \"Qdrant also has Llama Index integrations\"]\n",
    "# metadata = [\n",
    "#     {\"source\": \"Langchain-docs\"},\n",
    "#     {\"source\": \"Linkedin-docs\"},\n",
    "# ]\n",
    "# ids = [42, 2]\n",
    "\n",
    "# # Use the new add method\n",
    "# embedded = client_mem._embed_documents(docs)\n",
    "\n",
    "# client_mem.add(\n",
    "#     collection_name=\"demo_collection\",\n",
    "#     documents=docs,\n",
    "#     metadata=metadata,\n",
    "#     ids=ids\n",
    "# )\n",
    "\n",
    "# search_result = client_mem.query(\n",
    "#     collection_name=\"demo_collection\",\n",
    "#     query_text=\"This is a query document\"\n",
    "# )\n",
    "# print(search_result)"
   ]
  },
  {
   "cell_type": "code",
   "execution_count": 96,
   "metadata": {},
   "outputs": [
    {
     "name": "stderr",
     "output_type": "stream",
     "text": [
      "Some non-default generation parameters are set in the model config. These should go into a GenerationConfig file (https://huggingface.co/docs/transformers/generation_strategies#save-a-custom-decoding-strategy-with-your-model) instead. This warning will be raised to an exception in v4.41.\n",
      "Non-default generation parameters: {'max_length': 142, 'min_length': 56, 'early_stopping': True, 'num_beams': 4, 'length_penalty': 2.0, 'no_repeat_ngram_size': 3, 'forced_bos_token_id': 0, 'forced_eos_token_id': 2}\n"
     ]
    },
    {
     "data": {
      "text/plain": [
       "('./bart-large-cnn/tokenizer_config.json',\n",
       " './bart-large-cnn/special_tokens_map.json',\n",
       " './bart-large-cnn/vocab.json',\n",
       " './bart-large-cnn/merges.txt',\n",
       " './bart-large-cnn/added_tokens.json')"
      ]
     },
     "execution_count": 96,
     "metadata": {},
     "output_type": "execute_result"
    }
   ],
   "source": [
    "# from transformers import BartForConditionalGeneration, BartTokenizer\n",
    "\n",
    "# model = BartForConditionalGeneration.from_pretrained('facebook/bart-large-cnn')\n",
    "# tokenizer = BartTokenizer.from_pretrained('facebook/bart-large-cnn')\n",
    "\n",
    "# model.save_pretrained('./bart-large-cnn')\n",
    "# tokenizer.save_pretrained('./bart-large-cnn')\n"
   ]
  }
 ],
 "metadata": {
  "kernelspec": {
   "display_name": "Python 3.10.10 ('.venv': venv)",
   "language": "python",
   "name": "python3"
  },
  "language_info": {
   "codemirror_mode": {
    "name": "ipython",
    "version": 3
   },
   "file_extension": ".py",
   "mimetype": "text/x-python",
   "name": "python",
   "nbconvert_exporter": "python",
   "pygments_lexer": "ipython3",
   "version": "3.10.10"
  },
  "orig_nbformat": 4,
  "vscode": {
   "interpreter": {
    "hash": "03e55034297573a387e4e2846e58f57aa90dd32f3880966dd68ce6f9e3012f6b"
   }
  }
 },
 "nbformat": 4,
 "nbformat_minor": 2
}
